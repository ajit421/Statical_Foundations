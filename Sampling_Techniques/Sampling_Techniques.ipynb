{
 "cells": [
  {
   "cell_type": "code",
   "execution_count": 42,
   "id": "7a609b52",
   "metadata": {},
   "outputs": [],
   "source": [
    "import pandas as pd\n",
    "import numpy as np\n",
    "import matplotlib.pyplot as plt\n",
    "import seaborn as sns"
   ]
  },
  {
   "cell_type": "code",
   "execution_count": 43,
   "id": "840d9e74",
   "metadata": {},
   "outputs": [
    {
     "data": {
      "text/html": [
       "<div>\n",
       "<style scoped>\n",
       "    .dataframe tbody tr th:only-of-type {\n",
       "        vertical-align: middle;\n",
       "    }\n",
       "\n",
       "    .dataframe tbody tr th {\n",
       "        vertical-align: top;\n",
       "    }\n",
       "\n",
       "    .dataframe thead th {\n",
       "        text-align: right;\n",
       "    }\n",
       "</style>\n",
       "<table border=\"1\" class=\"dataframe\">\n",
       "  <thead>\n",
       "    <tr style=\"text-align: right;\">\n",
       "      <th></th>\n",
       "      <th>ID</th>\n",
       "      <th>Age</th>\n",
       "      <th>Gender</th>\n",
       "      <th>Income</th>\n",
       "      <th>Education</th>\n",
       "      <th>Region</th>\n",
       "    </tr>\n",
       "  </thead>\n",
       "  <tbody>\n",
       "    <tr>\n",
       "      <th>0</th>\n",
       "      <td>1</td>\n",
       "      <td>62</td>\n",
       "      <td>Other</td>\n",
       "      <td>96138</td>\n",
       "      <td>Masters</td>\n",
       "      <td>East</td>\n",
       "    </tr>\n",
       "    <tr>\n",
       "      <th>1</th>\n",
       "      <td>2</td>\n",
       "      <td>65</td>\n",
       "      <td>Other</td>\n",
       "      <td>76543</td>\n",
       "      <td>PhD</td>\n",
       "      <td>East</td>\n",
       "    </tr>\n",
       "    <tr>\n",
       "      <th>2</th>\n",
       "      <td>3</td>\n",
       "      <td>71</td>\n",
       "      <td>Male</td>\n",
       "      <td>138887</td>\n",
       "      <td>Bachelors</td>\n",
       "      <td>East</td>\n",
       "    </tr>\n",
       "    <tr>\n",
       "      <th>3</th>\n",
       "      <td>4</td>\n",
       "      <td>18</td>\n",
       "      <td>Other</td>\n",
       "      <td>121643</td>\n",
       "      <td>Bachelors</td>\n",
       "      <td>South</td>\n",
       "    </tr>\n",
       "    <tr>\n",
       "      <th>4</th>\n",
       "      <td>5</td>\n",
       "      <td>21</td>\n",
       "      <td>Male</td>\n",
       "      <td>143192</td>\n",
       "      <td>Masters</td>\n",
       "      <td>East</td>\n",
       "    </tr>\n",
       "  </tbody>\n",
       "</table>\n",
       "</div>"
      ],
      "text/plain": [
       "   ID  Age Gender  Income  Education Region\n",
       "0   1   62  Other   96138    Masters   East\n",
       "1   2   65  Other   76543        PhD   East\n",
       "2   3   71   Male  138887  Bachelors   East\n",
       "3   4   18  Other  121643  Bachelors  South\n",
       "4   5   21   Male  143192    Masters   East"
      ]
     },
     "execution_count": 43,
     "metadata": {},
     "output_type": "execute_result"
    }
   ],
   "source": [
    "data = pd.read_csv('Population_Survey_Data_lyst.csv')\n",
    "data.head()"
   ]
  },
  {
   "cell_type": "code",
   "execution_count": 44,
   "id": "c492d86b",
   "metadata": {},
   "outputs": [
    {
     "data": {
      "text/plain": [
       "(1000, 6)"
      ]
     },
     "execution_count": 44,
     "metadata": {},
     "output_type": "execute_result"
    }
   ],
   "source": [
    "data.shape"
   ]
  },
  {
   "cell_type": "markdown",
   "id": "a12e4a7c",
   "metadata": {},
   "source": [
    "# 1. Simple random sampling: 100 people randomly"
   ]
  },
  {
   "cell_type": "code",
   "execution_count": 45,
   "id": "b2c897f1",
   "metadata": {},
   "outputs": [
    {
     "data": {
      "text/html": [
       "<div>\n",
       "<style scoped>\n",
       "    .dataframe tbody tr th:only-of-type {\n",
       "        vertical-align: middle;\n",
       "    }\n",
       "\n",
       "    .dataframe tbody tr th {\n",
       "        vertical-align: top;\n",
       "    }\n",
       "\n",
       "    .dataframe thead th {\n",
       "        text-align: right;\n",
       "    }\n",
       "</style>\n",
       "<table border=\"1\" class=\"dataframe\">\n",
       "  <thead>\n",
       "    <tr style=\"text-align: right;\">\n",
       "      <th></th>\n",
       "      <th>ID</th>\n",
       "      <th>Age</th>\n",
       "      <th>Gender</th>\n",
       "      <th>Income</th>\n",
       "      <th>Education</th>\n",
       "      <th>Region</th>\n",
       "    </tr>\n",
       "  </thead>\n",
       "  <tbody>\n",
       "    <tr>\n",
       "      <th>521</th>\n",
       "      <td>522</td>\n",
       "      <td>74</td>\n",
       "      <td>Male</td>\n",
       "      <td>43185</td>\n",
       "      <td>Bachelors</td>\n",
       "      <td>East</td>\n",
       "    </tr>\n",
       "    <tr>\n",
       "      <th>737</th>\n",
       "      <td>738</td>\n",
       "      <td>25</td>\n",
       "      <td>Female</td>\n",
       "      <td>73725</td>\n",
       "      <td>High School</td>\n",
       "      <td>West</td>\n",
       "    </tr>\n",
       "    <tr>\n",
       "      <th>740</th>\n",
       "      <td>741</td>\n",
       "      <td>63</td>\n",
       "      <td>Other</td>\n",
       "      <td>110045</td>\n",
       "      <td>Bachelors</td>\n",
       "      <td>South</td>\n",
       "    </tr>\n",
       "    <tr>\n",
       "      <th>660</th>\n",
       "      <td>661</td>\n",
       "      <td>25</td>\n",
       "      <td>Male</td>\n",
       "      <td>107801</td>\n",
       "      <td>Bachelors</td>\n",
       "      <td>North</td>\n",
       "    </tr>\n",
       "    <tr>\n",
       "      <th>411</th>\n",
       "      <td>412</td>\n",
       "      <td>40</td>\n",
       "      <td>Male</td>\n",
       "      <td>63466</td>\n",
       "      <td>PhD</td>\n",
       "      <td>South</td>\n",
       "    </tr>\n",
       "  </tbody>\n",
       "</table>\n",
       "</div>"
      ],
      "text/plain": [
       "      ID  Age  Gender  Income    Education Region\n",
       "521  522   74    Male   43185    Bachelors   East\n",
       "737  738   25  Female   73725  High School   West\n",
       "740  741   63   Other  110045    Bachelors  South\n",
       "660  661   25    Male  107801    Bachelors  North\n",
       "411  412   40    Male   63466          PhD  South"
      ]
     },
     "execution_count": 45,
     "metadata": {},
     "output_type": "execute_result"
    }
   ],
   "source": [
    "sample_data = data.sample(n=100, random_state=42)\n",
    "sample_data.head()"
   ]
  },
  {
   "cell_type": "code",
   "execution_count": 46,
   "id": "404e3e55",
   "metadata": {},
   "outputs": [],
   "source": [
    "sample_data.to_csv('random_sampling.csv')"
   ]
  },
  {
   "cell_type": "markdown",
   "id": "837eba80",
   "metadata": {},
   "source": [
    "# 2. stratified Random sampling"
   ]
  },
  {
   "cell_type": "code",
   "execution_count": 47,
   "id": "f95c50b8",
   "metadata": {},
   "outputs": [
    {
     "name": "stderr",
     "output_type": "stream",
     "text": [
      "C:\\Users\\ajitk\\AppData\\Local\\Temp\\ipykernel_5872\\2982269467.py:1: DeprecationWarning: DataFrameGroupBy.apply operated on the grouping columns. This behavior is deprecated, and in a future version of pandas the grouping columns will be excluded from the operation. Either pass `include_groups=False` to exclude the groupings or explicitly select the grouping columns after groupby to silence this warning.\n",
      "  stratified_sample_data = data.groupby('Region').apply(lambda x: x.sample(min(len(x),25), random_state=42))\n"
     ]
    }
   ],
   "source": [
    "stratified_sample_data = data.groupby('Region').apply(lambda x: x.sample(min(len(x),25), random_state=42))\n",
    "stratified_sample_data.to_csv('stratified_random_sampling.csv')"
   ]
  },
  {
   "cell_type": "markdown",
   "id": "8ad2ea59",
   "metadata": {},
   "source": [
    "# Cluster Sampling: Manufacturing Data by Batch Number"
   ]
  },
  {
   "cell_type": "code",
   "execution_count": 48,
   "id": "1cc7ddef",
   "metadata": {},
   "outputs": [
    {
     "data": {
      "text/html": [
       "<div>\n",
       "<style scoped>\n",
       "    .dataframe tbody tr th:only-of-type {\n",
       "        vertical-align: middle;\n",
       "    }\n",
       "\n",
       "    .dataframe tbody tr th {\n",
       "        vertical-align: top;\n",
       "    }\n",
       "\n",
       "    .dataframe thead th {\n",
       "        text-align: right;\n",
       "    }\n",
       "</style>\n",
       "<table border=\"1\" class=\"dataframe\">\n",
       "  <thead>\n",
       "    <tr style=\"text-align: right;\">\n",
       "      <th></th>\n",
       "      <th>ProductID</th>\n",
       "      <th>BatchNumber</th>\n",
       "      <th>ProductionDate</th>\n",
       "      <th>Defective</th>\n",
       "      <th>Weight</th>\n",
       "      <th>Length</th>\n",
       "    </tr>\n",
       "  </thead>\n",
       "  <tbody>\n",
       "    <tr>\n",
       "      <th>0</th>\n",
       "      <td>1</td>\n",
       "      <td>25</td>\n",
       "      <td>2024-01-09</td>\n",
       "      <td>0</td>\n",
       "      <td>462.453744</td>\n",
       "      <td>17.613212</td>\n",
       "    </tr>\n",
       "    <tr>\n",
       "      <th>1</th>\n",
       "      <td>2</td>\n",
       "      <td>45</td>\n",
       "      <td>2024-04-18</td>\n",
       "      <td>0</td>\n",
       "      <td>521.766704</td>\n",
       "      <td>15.899234</td>\n",
       "    </tr>\n",
       "    <tr>\n",
       "      <th>2</th>\n",
       "      <td>3</td>\n",
       "      <td>20</td>\n",
       "      <td>2024-04-11</td>\n",
       "      <td>0</td>\n",
       "      <td>498.369030</td>\n",
       "      <td>14.177899</td>\n",
       "    </tr>\n",
       "    <tr>\n",
       "      <th>3</th>\n",
       "      <td>4</td>\n",
       "      <td>31</td>\n",
       "      <td>2024-06-27</td>\n",
       "      <td>0</td>\n",
       "      <td>488.938762</td>\n",
       "      <td>16.498599</td>\n",
       "    </tr>\n",
       "    <tr>\n",
       "      <th>4</th>\n",
       "      <td>5</td>\n",
       "      <td>14</td>\n",
       "      <td>2023-10-27</td>\n",
       "      <td>0</td>\n",
       "      <td>524.459295</td>\n",
       "      <td>15.422276</td>\n",
       "    </tr>\n",
       "  </tbody>\n",
       "</table>\n",
       "</div>"
      ],
      "text/plain": [
       "   ProductID  BatchNumber ProductionDate  Defective      Weight     Length\n",
       "0          1           25     2024-01-09          0  462.453744  17.613212\n",
       "1          2           45     2024-04-18          0  521.766704  15.899234\n",
       "2          3           20     2024-04-11          0  498.369030  14.177899\n",
       "3          4           31     2024-06-27          0  488.938762  16.498599\n",
       "4          5           14     2023-10-27          0  524.459295  15.422276"
      ]
     },
     "execution_count": 48,
     "metadata": {},
     "output_type": "execute_result"
    }
   ],
   "source": [
    "manufacturing_data = pd.read_csv('Manufacturing_Data_lyst.csv')\n",
    "manufacturing_data.head()"
   ]
  },
  {
   "cell_type": "code",
   "execution_count": 49,
   "id": "81536071",
   "metadata": {},
   "outputs": [
    {
     "data": {
      "text/plain": [
       "array([25, 45, 20, 31, 14,  8, 36, 30, 21,  9, 11, 42, 35, 47, 12, 22,  5,\n",
       "       48, 23,  7, 44, 33, 38,  4, 18,  6, 28,  2, 34, 41, 40, 19, 16, 46,\n",
       "       49, 43, 17,  3, 13, 10, 29, 32, 24, 26, 39, 15,  1, 27, 37])"
      ]
     },
     "execution_count": 49,
     "metadata": {},
     "output_type": "execute_result"
    }
   ],
   "source": [
    "clusters = manufacturing_data['BatchNumber'].unique()\n",
    "clusters"
   ]
  },
  {
   "cell_type": "code",
   "execution_count": 50,
   "id": "c14fd1c6",
   "metadata": {},
   "outputs": [
    {
     "data": {
      "text/plain": [
       "array([ 8, 33, 14, 22,  4])"
      ]
     },
     "execution_count": 50,
     "metadata": {},
     "output_type": "execute_result"
    }
   ],
   "source": [
    "selected_clusters = np.random.choice(clusters, size=5, replace=False)\n",
    "selected_clusters"
   ]
  },
  {
   "cell_type": "code",
   "execution_count": 51,
   "id": "55d8686f",
   "metadata": {},
   "outputs": [
    {
     "name": "stdout",
     "output_type": "stream",
     "text": [
      "     ProductID  BatchNumber ProductionDate  Defective      Weight     Length\n",
      "4            5           14     2023-10-27          0  524.459295  15.422276\n",
      "5            6            8     2023-09-27          0  493.373827  14.478698\n",
      "17          18           22     2024-05-25          0  473.413269  18.979386\n",
      "20          21            8     2024-02-26          0  469.030579  13.116369\n",
      "21          22           22     2023-12-22          0  526.228543  13.594331\n",
      "..         ...          ...            ...        ...         ...        ...\n",
      "923        924            4     2024-04-16          0  477.402455  19.027435\n",
      "924        925           33     2024-05-10          0  531.798460  11.124805\n",
      "956        957           14     2024-02-28          1  507.577207  14.732325\n",
      "982        983            8     2024-01-29          0  516.260728  16.200587\n",
      "984        985           33     2024-03-07          0  484.353514  14.278029\n",
      "\n",
      "[104 rows x 6 columns]\n"
     ]
    }
   ],
   "source": [
    "cluster_sample_data = manufacturing_data[manufacturing_data['BatchNumber'].isin(selected_clusters)]\n",
    "print(cluster_sample_data)"
   ]
  },
  {
   "cell_type": "code",
   "execution_count": 52,
   "id": "fc7570b0",
   "metadata": {},
   "outputs": [
    {
     "name": "stderr",
     "output_type": "stream",
     "text": [
      "C:\\Users\\ajitk\\AppData\\Local\\Temp\\ipykernel_5872\\2201879704.py:2: SettingWithCopyWarning: \n",
      "A value is trying to be set on a copy of a slice from a DataFrame.\n",
      "Try using .loc[row_indexer,col_indexer] = value instead\n",
      "\n",
      "See the caveats in the documentation: https://pandas.pydata.org/pandas-docs/stable/user_guide/indexing.html#returning-a-view-versus-a-copy\n",
      "  cluster_sample_data['Income'] = np.random.normal(loc=50000, scale=10000, size=len(cluster_sample_data))\n"
     ]
    },
    {
     "data": {
      "text/html": [
       "<div>\n",
       "<style scoped>\n",
       "    .dataframe tbody tr th:only-of-type {\n",
       "        vertical-align: middle;\n",
       "    }\n",
       "\n",
       "    .dataframe tbody tr th {\n",
       "        vertical-align: top;\n",
       "    }\n",
       "\n",
       "    .dataframe thead th {\n",
       "        text-align: right;\n",
       "    }\n",
       "</style>\n",
       "<table border=\"1\" class=\"dataframe\">\n",
       "  <thead>\n",
       "    <tr style=\"text-align: right;\">\n",
       "      <th></th>\n",
       "      <th>ProductID</th>\n",
       "      <th>BatchNumber</th>\n",
       "      <th>ProductionDate</th>\n",
       "      <th>Defective</th>\n",
       "      <th>Weight</th>\n",
       "      <th>Length</th>\n",
       "      <th>Income</th>\n",
       "    </tr>\n",
       "  </thead>\n",
       "  <tbody>\n",
       "    <tr>\n",
       "      <th>4</th>\n",
       "      <td>5</td>\n",
       "      <td>14</td>\n",
       "      <td>2023-10-27</td>\n",
       "      <td>0</td>\n",
       "      <td>524.459295</td>\n",
       "      <td>15.422276</td>\n",
       "      <td>43496.393338</td>\n",
       "    </tr>\n",
       "    <tr>\n",
       "      <th>5</th>\n",
       "      <td>6</td>\n",
       "      <td>8</td>\n",
       "      <td>2023-09-27</td>\n",
       "      <td>0</td>\n",
       "      <td>493.373827</td>\n",
       "      <td>14.478698</td>\n",
       "      <td>53808.960898</td>\n",
       "    </tr>\n",
       "    <tr>\n",
       "      <th>17</th>\n",
       "      <td>18</td>\n",
       "      <td>22</td>\n",
       "      <td>2024-05-25</td>\n",
       "      <td>0</td>\n",
       "      <td>473.413269</td>\n",
       "      <td>18.979386</td>\n",
       "      <td>47386.623798</td>\n",
       "    </tr>\n",
       "    <tr>\n",
       "      <th>20</th>\n",
       "      <td>21</td>\n",
       "      <td>8</td>\n",
       "      <td>2024-02-26</td>\n",
       "      <td>0</td>\n",
       "      <td>469.030579</td>\n",
       "      <td>13.116369</td>\n",
       "      <td>52426.973993</td>\n",
       "    </tr>\n",
       "    <tr>\n",
       "      <th>21</th>\n",
       "      <td>22</td>\n",
       "      <td>22</td>\n",
       "      <td>2023-12-22</td>\n",
       "      <td>0</td>\n",
       "      <td>526.228543</td>\n",
       "      <td>13.594331</td>\n",
       "      <td>35268.034997</td>\n",
       "    </tr>\n",
       "  </tbody>\n",
       "</table>\n",
       "</div>"
      ],
      "text/plain": [
       "    ProductID  BatchNumber ProductionDate  Defective      Weight     Length  \\\n",
       "4           5           14     2023-10-27          0  524.459295  15.422276   \n",
       "5           6            8     2023-09-27          0  493.373827  14.478698   \n",
       "17         18           22     2024-05-25          0  473.413269  18.979386   \n",
       "20         21            8     2024-02-26          0  469.030579  13.116369   \n",
       "21         22           22     2023-12-22          0  526.228543  13.594331   \n",
       "\n",
       "          Income  \n",
       "4   43496.393338  \n",
       "5   53808.960898  \n",
       "17  47386.623798  \n",
       "20  52426.973993  \n",
       "21  35268.034997  "
      ]
     },
     "execution_count": 52,
     "metadata": {},
     "output_type": "execute_result"
    }
   ],
   "source": [
    "# add random Income data to the cluster sample data\n",
    "cluster_sample_data['Income'] = np.random.normal(loc=50000, scale=10000, size=len(cluster_sample_data))\n",
    "cluster_sample_data.head()"
   ]
  },
  {
   "cell_type": "code",
   "execution_count": 53,
   "id": "94192073",
   "metadata": {},
   "outputs": [],
   "source": [
    "cluster_sample_data.to_csv('cluster_sampling.csv')"
   ]
  },
  {
   "cell_type": "markdown",
   "id": "c0e21e52",
   "metadata": {},
   "source": [
    "# Systematic Sampling"
   ]
  },
  {
   "cell_type": "code",
   "execution_count": 54,
   "id": "a90a1a67",
   "metadata": {},
   "outputs": [
    {
     "data": {
      "text/html": [
       "<div>\n",
       "<style scoped>\n",
       "    .dataframe tbody tr th:only-of-type {\n",
       "        vertical-align: middle;\n",
       "    }\n",
       "\n",
       "    .dataframe tbody tr th {\n",
       "        vertical-align: top;\n",
       "    }\n",
       "\n",
       "    .dataframe thead th {\n",
       "        text-align: right;\n",
       "    }\n",
       "</style>\n",
       "<table border=\"1\" class=\"dataframe\">\n",
       "  <thead>\n",
       "    <tr style=\"text-align: right;\">\n",
       "      <th></th>\n",
       "      <th>ID</th>\n",
       "      <th>Age</th>\n",
       "      <th>Gender</th>\n",
       "      <th>Income</th>\n",
       "      <th>Education</th>\n",
       "      <th>Region</th>\n",
       "    </tr>\n",
       "  </thead>\n",
       "  <tbody>\n",
       "    <tr>\n",
       "      <th>0</th>\n",
       "      <td>1</td>\n",
       "      <td>62</td>\n",
       "      <td>Other</td>\n",
       "      <td>96138</td>\n",
       "      <td>Masters</td>\n",
       "      <td>East</td>\n",
       "    </tr>\n",
       "    <tr>\n",
       "      <th>10</th>\n",
       "      <td>11</td>\n",
       "      <td>39</td>\n",
       "      <td>Male</td>\n",
       "      <td>25241</td>\n",
       "      <td>Masters</td>\n",
       "      <td>West</td>\n",
       "    </tr>\n",
       "    <tr>\n",
       "      <th>20</th>\n",
       "      <td>21</td>\n",
       "      <td>56</td>\n",
       "      <td>Other</td>\n",
       "      <td>121272</td>\n",
       "      <td>PhD</td>\n",
       "      <td>South</td>\n",
       "    </tr>\n",
       "    <tr>\n",
       "      <th>30</th>\n",
       "      <td>31</td>\n",
       "      <td>27</td>\n",
       "      <td>Female</td>\n",
       "      <td>58115</td>\n",
       "      <td>High School</td>\n",
       "      <td>East</td>\n",
       "    </tr>\n",
       "    <tr>\n",
       "      <th>40</th>\n",
       "      <td>41</td>\n",
       "      <td>53</td>\n",
       "      <td>Female</td>\n",
       "      <td>147482</td>\n",
       "      <td>Bachelors</td>\n",
       "      <td>North</td>\n",
       "    </tr>\n",
       "    <tr>\n",
       "      <th>...</th>\n",
       "      <td>...</td>\n",
       "      <td>...</td>\n",
       "      <td>...</td>\n",
       "      <td>...</td>\n",
       "      <td>...</td>\n",
       "      <td>...</td>\n",
       "    </tr>\n",
       "    <tr>\n",
       "      <th>950</th>\n",
       "      <td>951</td>\n",
       "      <td>78</td>\n",
       "      <td>Male</td>\n",
       "      <td>121159</td>\n",
       "      <td>PhD</td>\n",
       "      <td>North</td>\n",
       "    </tr>\n",
       "    <tr>\n",
       "      <th>960</th>\n",
       "      <td>961</td>\n",
       "      <td>55</td>\n",
       "      <td>Female</td>\n",
       "      <td>34823</td>\n",
       "      <td>Bachelors</td>\n",
       "      <td>South</td>\n",
       "    </tr>\n",
       "    <tr>\n",
       "      <th>970</th>\n",
       "      <td>971</td>\n",
       "      <td>36</td>\n",
       "      <td>Other</td>\n",
       "      <td>108570</td>\n",
       "      <td>Bachelors</td>\n",
       "      <td>South</td>\n",
       "    </tr>\n",
       "    <tr>\n",
       "      <th>980</th>\n",
       "      <td>981</td>\n",
       "      <td>77</td>\n",
       "      <td>Female</td>\n",
       "      <td>123554</td>\n",
       "      <td>Bachelors</td>\n",
       "      <td>North</td>\n",
       "    </tr>\n",
       "    <tr>\n",
       "      <th>990</th>\n",
       "      <td>991</td>\n",
       "      <td>28</td>\n",
       "      <td>Female</td>\n",
       "      <td>139725</td>\n",
       "      <td>Masters</td>\n",
       "      <td>North</td>\n",
       "    </tr>\n",
       "  </tbody>\n",
       "</table>\n",
       "<p>100 rows × 6 columns</p>\n",
       "</div>"
      ],
      "text/plain": [
       "      ID  Age  Gender  Income    Education Region\n",
       "0      1   62   Other   96138      Masters   East\n",
       "10    11   39    Male   25241      Masters   West\n",
       "20    21   56   Other  121272          PhD  South\n",
       "30    31   27  Female   58115  High School   East\n",
       "40    41   53  Female  147482    Bachelors  North\n",
       "..   ...  ...     ...     ...          ...    ...\n",
       "950  951   78    Male  121159          PhD  North\n",
       "960  961   55  Female   34823    Bachelors  South\n",
       "970  971   36   Other  108570    Bachelors  South\n",
       "980  981   77  Female  123554    Bachelors  North\n",
       "990  991   28  Female  139725      Masters  North\n",
       "\n",
       "[100 rows x 6 columns]"
      ]
     },
     "execution_count": 54,
     "metadata": {},
     "output_type": "execute_result"
    }
   ],
   "source": [
    "systematic_sampling_data = data.iloc[::10, :]\n",
    "systematic_sampling_data"
   ]
  },
  {
   "cell_type": "code",
   "execution_count": 55,
   "id": "ea561b5b",
   "metadata": {},
   "outputs": [],
   "source": [
    "systematic_sampling_data.to_csv('systematic_sampling_data.csv')"
   ]
  },
  {
   "cell_type": "code",
   "execution_count": 56,
   "id": "30f81e2c",
   "metadata": {},
   "outputs": [
    {
     "data": {
      "text/html": [
       "<div>\n",
       "<style scoped>\n",
       "    .dataframe tbody tr th:only-of-type {\n",
       "        vertical-align: middle;\n",
       "    }\n",
       "\n",
       "    .dataframe tbody tr th {\n",
       "        vertical-align: top;\n",
       "    }\n",
       "\n",
       "    .dataframe thead th {\n",
       "        text-align: right;\n",
       "    }\n",
       "</style>\n",
       "<table border=\"1\" class=\"dataframe\">\n",
       "  <thead>\n",
       "    <tr style=\"text-align: right;\">\n",
       "      <th></th>\n",
       "      <th>ID</th>\n",
       "      <th>Age</th>\n",
       "      <th>Gender</th>\n",
       "      <th>Income</th>\n",
       "      <th>Education</th>\n",
       "      <th>Region</th>\n",
       "    </tr>\n",
       "  </thead>\n",
       "  <tbody>\n",
       "    <tr>\n",
       "      <th>0</th>\n",
       "      <td>1</td>\n",
       "      <td>62</td>\n",
       "      <td>Other</td>\n",
       "      <td>96138</td>\n",
       "      <td>Masters</td>\n",
       "      <td>East</td>\n",
       "    </tr>\n",
       "    <tr>\n",
       "      <th>1</th>\n",
       "      <td>2</td>\n",
       "      <td>65</td>\n",
       "      <td>Other</td>\n",
       "      <td>76543</td>\n",
       "      <td>PhD</td>\n",
       "      <td>East</td>\n",
       "    </tr>\n",
       "    <tr>\n",
       "      <th>2</th>\n",
       "      <td>3</td>\n",
       "      <td>71</td>\n",
       "      <td>Male</td>\n",
       "      <td>138887</td>\n",
       "      <td>Bachelors</td>\n",
       "      <td>East</td>\n",
       "    </tr>\n",
       "    <tr>\n",
       "      <th>3</th>\n",
       "      <td>4</td>\n",
       "      <td>18</td>\n",
       "      <td>Other</td>\n",
       "      <td>121643</td>\n",
       "      <td>Bachelors</td>\n",
       "      <td>South</td>\n",
       "    </tr>\n",
       "    <tr>\n",
       "      <th>4</th>\n",
       "      <td>5</td>\n",
       "      <td>21</td>\n",
       "      <td>Male</td>\n",
       "      <td>143192</td>\n",
       "      <td>Masters</td>\n",
       "      <td>East</td>\n",
       "    </tr>\n",
       "  </tbody>\n",
       "</table>\n",
       "</div>"
      ],
      "text/plain": [
       "   ID  Age Gender  Income  Education Region\n",
       "0   1   62  Other   96138    Masters   East\n",
       "1   2   65  Other   76543        PhD   East\n",
       "2   3   71   Male  138887  Bachelors   East\n",
       "3   4   18  Other  121643  Bachelors  South\n",
       "4   5   21   Male  143192    Masters   East"
      ]
     },
     "execution_count": 56,
     "metadata": {},
     "output_type": "execute_result"
    }
   ],
   "source": [
    "data.head()"
   ]
  },
  {
   "cell_type": "code",
   "execution_count": 57,
   "id": "f7b04645",
   "metadata": {},
   "outputs": [
    {
     "name": "stdout",
     "output_type": "stream",
     "text": [
      "Simple Random Sample Mean: 83263.23\n",
      "Stratified Random Sample Mean: 91424.27\n",
      "Cluster Sample Mean: 48737.08758892015\n",
      "Systematic Sample Mean: 88961.4\n"
     ]
    }
   ],
   "source": [
    "# Evaluate the measure of central tendency for the whole data followed by the simple random sample, stratified random sample, cluster sample and systematic sample.\n",
    "\n",
    "simple_mean = sample_data['Income'].mean()\n",
    "stratified_mean = stratified_sample_data['Income'].mean()\n",
    "cluster_mean = cluster_sample_data['Income'].mean()\n",
    "systematic_mean = systematic_sampling_data['Income'].mean()\n",
    "\n",
    "print(f\"Simple Random Sample Mean: {simple_mean}\")\n",
    "print(f\"Stratified Random Sample Mean: {stratified_mean}\")\n",
    "print(f\"Cluster Sample Mean: {cluster_mean}\")\n",
    "print(f\"Systematic Sample Mean: {systematic_mean}\")"
   ]
  },
  {
   "cell_type": "code",
   "execution_count": 62,
   "id": "3122563c",
   "metadata": {},
   "outputs": [
    {
     "data": {
      "image/png": "[encoded data removed]",
      "text/plain": [
       "<Figure size 640x480 with 1 Axes>"
      ]
     },
     "metadata": {},
     "output_type": "display_data"
    }
   ],
   "source": [
    "\n",
    "# Plot the mean income comparison\n",
    "plt.bar(['Whole Data', 'Simple Random Sample', 'Stratified Random Sample', 'Cluster Sample', 'Systematic Sample'], \n",
    "[data['Income'].mean(), simple_mean, stratified_mean, cluster_mean, systematic_mean])\n",
    "\n",
    "plt.title('Average Income Comparison')\n",
    "plt.xlabel('Sample')\n",
    "plt.ylabel('Average Income (Rupees)')\n",
    "plt.xticks(rotation=45)\n",
    "plt.savefig('income_comparison_bar.png')\n",
    "plt.show()\n",
    "\n"
   ]
  },
  {
   "cell_type": "code",
   "execution_count": 61,
   "id": "b61fda5b",
   "metadata": {},
   "outputs": [
    {
     "name": "stderr",
     "output_type": "stream",
     "text": [
      "C:\\Users\\ajitk\\AppData\\Local\\Temp\\ipykernel_5872\\4161885797.py:1: MatplotlibDeprecationWarning: The 'labels' parameter of boxplot() has been renamed 'tick_labels' since Matplotlib 3.9; support for the old name will be dropped in 3.11.\n",
      "  plt.boxplot([data['Income'], sample_data['Income'], stratified_sample_data['Income'], cluster_sample_data['Income'], systematic_sampling_data['Income']],\n"
     ]
    },
    {
     "data": {
      "image/png": "[encoded data removed]",
      "text/plain": [
       "<Figure size 640x480 with 1 Axes>"
      ]
     },
     "metadata": {},
     "output_type": "display_data"
    }
   ],
   "source": [
    "plt.boxplot([data['Income'], sample_data['Income'], stratified_sample_data['Income'], cluster_sample_data['Income'], systematic_sampling_data['Income']], \n",
    "labels=['Whole Data', 'Simple Random Sample', 'Stratified Random Sample', 'Cluster Sample', 'Systematic Sample'])\n",
    "\n",
    "plt.title('Income Distribution Comparison')\n",
    "plt.xlabel('Sample')\n",
    "plt.ylabel('Income (Rupees)')\n",
    "plt.xticks(rotation=45)\n",
    "plt.savefig('income_comparison_boxplot.png')\n",
    "plt.show()"
   ]
  },
  {
   "cell_type": "code",
   "execution_count": null,
   "id": "0ac531ae",
   "metadata": {},
   "outputs": [],
   "source": []
  }
 ],
 "metadata": {
  "kernelspec": {
   "display_name": "Python 3",
   "language": "python",
   "name": "python3"
  },
  "language_info": {
   "codemirror_mode": {
    "name": "ipython",
    "version": 3
   },
   "file_extension": ".py",
   "mimetype": "text/x-python",
   "name": "python",
   "nbconvert_exporter": "python",
   "pygments_lexer": "ipython3",
   "version": "3.10.11"
  }
 },
 "nbformat": 4,
 "nbformat_minor": 5
}
