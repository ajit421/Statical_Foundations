{
 "cells": [
  {
   "cell_type": "code",
   "execution_count": 12,
   "id": "72464b28",
   "metadata": {},
   "outputs": [],
   "source": [
    "from scipy.stats import norm\n",
    "import scipy.stats as stats\n",
    "\n"
   ]
  },
  {
   "cell_type": "markdown",
   "id": "140392b0",
   "metadata": {},
   "source": [
    "### Scenario 1: \n",
    "A factory produces light bulbs that are supposed to last an average of 800 hours. You take a sample of 50 light bulbs and find that the average lifespan is 790 hours. The standard error (SE) for this sample is 7.5 hours."
   ]
  },
  {
   "cell_type": "code",
   "execution_count": null,
   "id": "cd5395d7",
   "metadata": {},
   "outputs": [
    {
     "name": "stdout",
     "output_type": "stream",
     "text": [
      "Fail to reject the null hypothesis: average lifespan of the light bulbs is approximately 800 hours\n"
     ]
    }
   ],
   "source": [
    "population_mean = 800\n",
    "sample_mean = 790\n",
    "standard_error = 7.5\n",
    "alpha =0.05\n",
    "\n",
    "z_score = (sample_mean - population_mean)/standard_error\n",
    "\n",
    "# two tailed test\n",
    "p_value = 2 * norm.cdf(z_score)\n",
    "\n",
    "if p_value > alpha:\n",
    "  print('Fail to reject the null hypothesis: average lifespan of the light bulbs is approximately 800 hours')\n",
    "else:\n",
    "  print('Reject the null hypothesis: average lifespan of the light bulb is not 800 hours')"
   ]
  },
  {
   "cell_type": "code",
   "execution_count": 11,
   "id": "d321fb6e",
   "metadata": {},
   "outputs": [
    {
     "name": "stdout",
     "output_type": "stream",
     "text": [
      "-1.3333333333333333 2.984427460719471e-07\n"
     ]
    }
   ],
   "source": [
    "print(z_score, p_value)"
   ]
  },
  {
   "cell_type": "markdown",
   "id": "6e319e7c",
   "metadata": {},
   "source": [
    "### Scenario 2:\n",
    " A nutrition company claims that their protein bars contain 20 grams of protein on average. You take a sample of 40 bars and find that the average protein content is 18.8 grams. The standard error (SE) for this sample is 0.8 grams."
   ]
  },
  {
   "cell_type": "markdown",
   "id": "ecdb2b63",
   "metadata": {},
   "source": [
    "You work for a company that produces three types of energy drinks. The company wants to know if the average caffeine content differs significantly among these three types. You collect data on the caffeine content (in milligrams) from five samples of each drink:\n",
    "\n",
    "Energy Drink A: 105 mg, 110 mg, 98 mg, 107 mg, 103 mg\n",
    "\n",
    "Energy Drink B: 130 mg, 125 mg, 132 mg, 128 mg, 129 mg\n",
    "\n",
    "Energy Drink C: 120 mg, 115 mg, 117 mg, 119 mg, 121 mg\n",
    "\n",
    "Question: Is there a statistically significant difference in the average caffeine content between these three types of energy drinks?"
   ]
  },
  {
   "cell_type": "code",
   "execution_count": null,
   "id": "87378372",
   "metadata": {},
   "outputs": [
    {
     "name": "stdout",
     "output_type": "stream",
     "text": [
      "Reject the null hypothesis meaning there is a significant difference in the average caffeine content of the above three energy drinks.\n"
     ]
    }
   ],
   "source": [
    "group_A = [105, 110, 98, 107, 103]\n",
    "group_B = [130, 125, 132, 128, 129]\n",
    "group_C = [120, 115, 117, 119, 121]\n",
    "\n",
    "alpha = 0.05\n",
    "\n",
    "f_value, p_value = stats.f_oneway(group_A, group_B, group_C)\n",
    "\n",
    "if alpha < p_value:\n",
    "  print('Fail to reject the null hypothesis meaning there is no significant difference in the average caffeine content of the above three energy drinks')\n",
    "else:\n",
    "  print('Reject the null hypothesis meaning there is a significant difference in the average caffeine content of the above three energy drinks.')"
   ]
  },
  {
   "cell_type": "code",
   "execution_count": 3,
   "id": "38b25333",
   "metadata": {},
   "outputs": [
    {
     "name": "stdout",
     "output_type": "stream",
     "text": [
      "2.984427460719471e-07\n"
     ]
    }
   ],
   "source": [
    "print(p_value)"
   ]
  },
  {
   "cell_type": "code",
   "execution_count": 4,
   "id": "7b04a8a9",
   "metadata": {},
   "outputs": [
    {
     "name": "stdout",
     "output_type": "stream",
     "text": [
      "67.39634146341461\n"
     ]
    }
   ],
   "source": [
    "print(f_value)"
   ]
  },
  {
   "cell_type": "code",
   "execution_count": null,
   "id": "767e263c",
   "metadata": {},
   "outputs": [],
   "source": []
  }
 ],
 "metadata": {
  "kernelspec": {
   "display_name": "base",
   "language": "python",
   "name": "python3"
  },
  "language_info": {
   "codemirror_mode": {
    "name": "ipython",
    "version": 3
   },
   "file_extension": ".py",
   "mimetype": "text/x-python",
   "name": "python",
   "nbconvert_exporter": "python",
   "pygments_lexer": "ipython3",
   "version": "3.13.5"
  }
 },
 "nbformat": 4,
 "nbformat_minor": 5
}
