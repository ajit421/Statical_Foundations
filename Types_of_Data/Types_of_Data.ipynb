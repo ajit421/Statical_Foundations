{
 "cells": [
  {
   "cell_type": "code",
   "execution_count": 128,
   "id": "f2810ca1",
   "metadata": {},
   "outputs": [],
   "source": [
    "import pandas as pd\n",
    "import numpy as np\n"
   ]
  },
  {
   "cell_type": "code",
   "execution_count": 129,
   "id": "4e4cd0e4",
   "metadata": {},
   "outputs": [],
   "source": [
    "np.random.seed(0)\n",
    "num_sample = 1000\n",
    "color = ['Red', 'Yellow', 'Black', 'Green', 'Purple', 'Crimson', 'Blue']\n",
    "nominal_data = np.random.choice(color, num_sample)"
   ]
  },
  {
   "cell_type": "code",
   "execution_count": 130,
   "id": "a631b45f",
   "metadata": {},
   "outputs": [
    {
     "data": {
      "text/html": [
       "<div>\n",
       "<style scoped>\n",
       "    .dataframe tbody tr th:only-of-type {\n",
       "        vertical-align: middle;\n",
       "    }\n",
       "\n",
       "    .dataframe tbody tr th {\n",
       "        vertical-align: top;\n",
       "    }\n",
       "\n",
       "    .dataframe thead th {\n",
       "        text-align: right;\n",
       "    }\n",
       "</style>\n",
       "<table border=\"1\" class=\"dataframe\">\n",
       "  <thead>\n",
       "    <tr style=\"text-align: right;\">\n",
       "      <th></th>\n",
       "      <th>Colors</th>\n",
       "    </tr>\n",
       "  </thead>\n",
       "  <tbody>\n",
       "    <tr>\n",
       "      <th>0</th>\n",
       "      <td>Purple</td>\n",
       "    </tr>\n",
       "    <tr>\n",
       "      <th>1</th>\n",
       "      <td>Crimson</td>\n",
       "    </tr>\n",
       "    <tr>\n",
       "      <th>2</th>\n",
       "      <td>Red</td>\n",
       "    </tr>\n",
       "    <tr>\n",
       "      <th>3</th>\n",
       "      <td>Green</td>\n",
       "    </tr>\n",
       "    <tr>\n",
       "      <th>4</th>\n",
       "      <td>Green</td>\n",
       "    </tr>\n",
       "    <tr>\n",
       "      <th>...</th>\n",
       "      <td>...</td>\n",
       "    </tr>\n",
       "    <tr>\n",
       "      <th>995</th>\n",
       "      <td>Crimson</td>\n",
       "    </tr>\n",
       "    <tr>\n",
       "      <th>996</th>\n",
       "      <td>Purple</td>\n",
       "    </tr>\n",
       "    <tr>\n",
       "      <th>997</th>\n",
       "      <td>Green</td>\n",
       "    </tr>\n",
       "    <tr>\n",
       "      <th>998</th>\n",
       "      <td>Purple</td>\n",
       "    </tr>\n",
       "    <tr>\n",
       "      <th>999</th>\n",
       "      <td>Crimson</td>\n",
       "    </tr>\n",
       "  </tbody>\n",
       "</table>\n",
       "<p>1000 rows × 1 columns</p>\n",
       "</div>"
      ],
      "text/plain": [
       "      Colors\n",
       "0     Purple\n",
       "1    Crimson\n",
       "2        Red\n",
       "3      Green\n",
       "4      Green\n",
       "..       ...\n",
       "995  Crimson\n",
       "996   Purple\n",
       "997    Green\n",
       "998   Purple\n",
       "999  Crimson\n",
       "\n",
       "[1000 rows x 1 columns]"
      ]
     },
     "execution_count": 130,
     "metadata": {},
     "output_type": "execute_result"
    }
   ],
   "source": [
    "df = pd.DataFrame (nominal_data, columns=['Colors'])\n",
    "df"
   ]
  },
  {
   "cell_type": "code",
   "execution_count": 131,
   "id": "84bf4372",
   "metadata": {},
   "outputs": [],
   "source": [
    "satisfaction_level = ['Low', 'Medium', 'High']\n",
    "ordinal_data = np.random.choice(satisfaction_level, size=num_sample)\n"
   ]
  },
  {
   "cell_type": "code",
   "execution_count": 132,
   "id": "fc8b8dfa",
   "metadata": {},
   "outputs": [
    {
     "data": {
      "text/html": [
       "<div>\n",
       "<style scoped>\n",
       "    .dataframe tbody tr th:only-of-type {\n",
       "        vertical-align: middle;\n",
       "    }\n",
       "\n",
       "    .dataframe tbody tr th {\n",
       "        vertical-align: top;\n",
       "    }\n",
       "\n",
       "    .dataframe thead th {\n",
       "        text-align: right;\n",
       "    }\n",
       "</style>\n",
       "<table border=\"1\" class=\"dataframe\">\n",
       "  <thead>\n",
       "    <tr style=\"text-align: right;\">\n",
       "      <th></th>\n",
       "      <th>Colors</th>\n",
       "      <th>satisfaction_level</th>\n",
       "    </tr>\n",
       "  </thead>\n",
       "  <tbody>\n",
       "    <tr>\n",
       "      <th>0</th>\n",
       "      <td>Purple</td>\n",
       "      <td>Low</td>\n",
       "    </tr>\n",
       "    <tr>\n",
       "      <th>1</th>\n",
       "      <td>Crimson</td>\n",
       "      <td>Low</td>\n",
       "    </tr>\n",
       "    <tr>\n",
       "      <th>2</th>\n",
       "      <td>Red</td>\n",
       "      <td>High</td>\n",
       "    </tr>\n",
       "    <tr>\n",
       "      <th>3</th>\n",
       "      <td>Green</td>\n",
       "      <td>Medium</td>\n",
       "    </tr>\n",
       "    <tr>\n",
       "      <th>4</th>\n",
       "      <td>Green</td>\n",
       "      <td>Low</td>\n",
       "    </tr>\n",
       "  </tbody>\n",
       "</table>\n",
       "</div>"
      ],
      "text/plain": [
       "    Colors satisfaction_level\n",
       "0   Purple                Low\n",
       "1  Crimson                Low\n",
       "2      Red               High\n",
       "3    Green             Medium\n",
       "4    Green                Low"
      ]
     },
     "execution_count": 132,
     "metadata": {},
     "output_type": "execute_result"
    }
   ],
   "source": [
    "df['satisfaction_level'] = ordinal_data\n",
    "df.head()"
   ]
  },
  {
   "cell_type": "markdown",
   "id": "78f4dc87",
   "metadata": {},
   "source": [
    "ADD Temperature column"
   ]
  },
  {
   "cell_type": "code",
   "execution_count": 133,
   "id": "4b69aa8a",
   "metadata": {},
   "outputs": [],
   "source": [
    "np.random.seed(0)\n",
    "interval_data = np.random.randint(0, 100, size=num_sample)"
   ]
  },
  {
   "cell_type": "code",
   "execution_count": 134,
   "id": "1523cf7f",
   "metadata": {},
   "outputs": [
    {
     "data": {
      "text/html": [
       "<div>\n",
       "<style scoped>\n",
       "    .dataframe tbody tr th:only-of-type {\n",
       "        vertical-align: middle;\n",
       "    }\n",
       "\n",
       "    .dataframe tbody tr th {\n",
       "        vertical-align: top;\n",
       "    }\n",
       "\n",
       "    .dataframe thead th {\n",
       "        text-align: right;\n",
       "    }\n",
       "</style>\n",
       "<table border=\"1\" class=\"dataframe\">\n",
       "  <thead>\n",
       "    <tr style=\"text-align: right;\">\n",
       "      <th></th>\n",
       "      <th>Colors</th>\n",
       "      <th>satisfaction_level</th>\n",
       "      <th>Temperature</th>\n",
       "    </tr>\n",
       "  </thead>\n",
       "  <tbody>\n",
       "    <tr>\n",
       "      <th>0</th>\n",
       "      <td>Purple</td>\n",
       "      <td>Low</td>\n",
       "      <td>44</td>\n",
       "    </tr>\n",
       "    <tr>\n",
       "      <th>1</th>\n",
       "      <td>Crimson</td>\n",
       "      <td>Low</td>\n",
       "      <td>47</td>\n",
       "    </tr>\n",
       "    <tr>\n",
       "      <th>2</th>\n",
       "      <td>Red</td>\n",
       "      <td>High</td>\n",
       "      <td>64</td>\n",
       "    </tr>\n",
       "    <tr>\n",
       "      <th>3</th>\n",
       "      <td>Green</td>\n",
       "      <td>Medium</td>\n",
       "      <td>67</td>\n",
       "    </tr>\n",
       "    <tr>\n",
       "      <th>4</th>\n",
       "      <td>Green</td>\n",
       "      <td>Low</td>\n",
       "      <td>67</td>\n",
       "    </tr>\n",
       "    <tr>\n",
       "      <th>...</th>\n",
       "      <td>...</td>\n",
       "      <td>...</td>\n",
       "      <td>...</td>\n",
       "    </tr>\n",
       "    <tr>\n",
       "      <th>995</th>\n",
       "      <td>Crimson</td>\n",
       "      <td>Medium</td>\n",
       "      <td>26</td>\n",
       "    </tr>\n",
       "    <tr>\n",
       "      <th>996</th>\n",
       "      <td>Purple</td>\n",
       "      <td>High</td>\n",
       "      <td>48</td>\n",
       "    </tr>\n",
       "    <tr>\n",
       "      <th>997</th>\n",
       "      <td>Green</td>\n",
       "      <td>Low</td>\n",
       "      <td>71</td>\n",
       "    </tr>\n",
       "    <tr>\n",
       "      <th>998</th>\n",
       "      <td>Purple</td>\n",
       "      <td>Medium</td>\n",
       "      <td>54</td>\n",
       "    </tr>\n",
       "    <tr>\n",
       "      <th>999</th>\n",
       "      <td>Crimson</td>\n",
       "      <td>Low</td>\n",
       "      <td>96</td>\n",
       "    </tr>\n",
       "  </tbody>\n",
       "</table>\n",
       "<p>1000 rows × 3 columns</p>\n",
       "</div>"
      ],
      "text/plain": [
       "      Colors satisfaction_level  Temperature\n",
       "0     Purple                Low           44\n",
       "1    Crimson                Low           47\n",
       "2        Red               High           64\n",
       "3      Green             Medium           67\n",
       "4      Green                Low           67\n",
       "..       ...                ...          ...\n",
       "995  Crimson             Medium           26\n",
       "996   Purple               High           48\n",
       "997    Green                Low           71\n",
       "998   Purple             Medium           54\n",
       "999  Crimson                Low           96\n",
       "\n",
       "[1000 rows x 3 columns]"
      ]
     },
     "execution_count": 134,
     "metadata": {},
     "output_type": "execute_result"
    }
   ],
   "source": [
    "df['Temperature'] = interval_data\n",
    "df"
   ]
  },
  {
   "cell_type": "markdown",
   "id": "89d429e7",
   "metadata": {},
   "source": [
    "Incom Data column"
   ]
  },
  {
   "cell_type": "code",
   "execution_count": 135,
   "id": "83f1e045",
   "metadata": {},
   "outputs": [],
   "source": [
    "np.random.seed(0)\n",
    "ratio_data = np.random.randint(10000, 1000000, num_sample)"
   ]
  },
  {
   "cell_type": "code",
   "execution_count": 136,
   "id": "978a80f3",
   "metadata": {},
   "outputs": [
    {
     "data": {
      "text/html": [
       "<div>\n",
       "<style scoped>\n",
       "    .dataframe tbody tr th:only-of-type {\n",
       "        vertical-align: middle;\n",
       "    }\n",
       "\n",
       "    .dataframe tbody tr th {\n",
       "        vertical-align: top;\n",
       "    }\n",
       "\n",
       "    .dataframe thead th {\n",
       "        text-align: right;\n",
       "    }\n",
       "</style>\n",
       "<table border=\"1\" class=\"dataframe\">\n",
       "  <thead>\n",
       "    <tr style=\"text-align: right;\">\n",
       "      <th></th>\n",
       "      <th>Colors</th>\n",
       "      <th>satisfaction_level</th>\n",
       "      <th>Temperature</th>\n",
       "      <th>Incom</th>\n",
       "    </tr>\n",
       "  </thead>\n",
       "  <tbody>\n",
       "    <tr>\n",
       "      <th>0</th>\n",
       "      <td>Purple</td>\n",
       "      <td>Low</td>\n",
       "      <td>44</td>\n",
       "      <td>995772</td>\n",
       "    </tr>\n",
       "    <tr>\n",
       "      <th>1</th>\n",
       "      <td>Crimson</td>\n",
       "      <td>Low</td>\n",
       "      <td>47</td>\n",
       "      <td>315711</td>\n",
       "    </tr>\n",
       "    <tr>\n",
       "      <th>2</th>\n",
       "      <td>Red</td>\n",
       "      <td>High</td>\n",
       "      <td>64</td>\n",
       "      <td>445829</td>\n",
       "    </tr>\n",
       "    <tr>\n",
       "      <th>3</th>\n",
       "      <td>Green</td>\n",
       "      <td>Medium</td>\n",
       "      <td>67</td>\n",
       "      <td>127952</td>\n",
       "    </tr>\n",
       "    <tr>\n",
       "      <th>4</th>\n",
       "      <td>Green</td>\n",
       "      <td>Low</td>\n",
       "      <td>67</td>\n",
       "      <td>973395</td>\n",
       "    </tr>\n",
       "    <tr>\n",
       "      <th>...</th>\n",
       "      <td>...</td>\n",
       "      <td>...</td>\n",
       "      <td>...</td>\n",
       "      <td>...</td>\n",
       "    </tr>\n",
       "    <tr>\n",
       "      <th>995</th>\n",
       "      <td>Crimson</td>\n",
       "      <td>Medium</td>\n",
       "      <td>26</td>\n",
       "      <td>625368</td>\n",
       "    </tr>\n",
       "    <tr>\n",
       "      <th>996</th>\n",
       "      <td>Purple</td>\n",
       "      <td>High</td>\n",
       "      <td>48</td>\n",
       "      <td>931989</td>\n",
       "    </tr>\n",
       "    <tr>\n",
       "      <th>997</th>\n",
       "      <td>Green</td>\n",
       "      <td>Low</td>\n",
       "      <td>71</td>\n",
       "      <td>360836</td>\n",
       "    </tr>\n",
       "    <tr>\n",
       "      <th>998</th>\n",
       "      <td>Purple</td>\n",
       "      <td>Medium</td>\n",
       "      <td>54</td>\n",
       "      <td>722885</td>\n",
       "    </tr>\n",
       "    <tr>\n",
       "      <th>999</th>\n",
       "      <td>Crimson</td>\n",
       "      <td>Low</td>\n",
       "      <td>96</td>\n",
       "      <td>700411</td>\n",
       "    </tr>\n",
       "  </tbody>\n",
       "</table>\n",
       "<p>1000 rows × 4 columns</p>\n",
       "</div>"
      ],
      "text/plain": [
       "      Colors satisfaction_level  Temperature   Incom\n",
       "0     Purple                Low           44  995772\n",
       "1    Crimson                Low           47  315711\n",
       "2        Red               High           64  445829\n",
       "3      Green             Medium           67  127952\n",
       "4      Green                Low           67  973395\n",
       "..       ...                ...          ...     ...\n",
       "995  Crimson             Medium           26  625368\n",
       "996   Purple               High           48  931989\n",
       "997    Green                Low           71  360836\n",
       "998   Purple             Medium           54  722885\n",
       "999  Crimson                Low           96  700411\n",
       "\n",
       "[1000 rows x 4 columns]"
      ]
     },
     "execution_count": 136,
     "metadata": {},
     "output_type": "execute_result"
    }
   ],
   "source": [
    "df['Incom'] = ratio_data\n",
    "df"
   ]
  },
  {
   "cell_type": "markdown",
   "id": "ec8252eb",
   "metadata": {},
   "source": [
    "Save data in the csv file"
   ]
  },
  {
   "cell_type": "code",
   "execution_count": 137,
   "id": "4e2b8bd6",
   "metadata": {},
   "outputs": [],
   "source": [
    "df.to_csv('types_of_data.csv')"
   ]
  },
  {
   "cell_type": "code",
   "execution_count": 138,
   "id": "bd31fced",
   "metadata": {},
   "outputs": [],
   "source": [
    "import matplotlib.pyplot as plt\n",
    "import seaborn as sns"
   ]
  },
  {
   "cell_type": "code",
   "execution_count": 139,
   "id": "fb5b7a56",
   "metadata": {},
   "outputs": [
    {
     "data": {
      "image/png": "[encoded data removed]",
      "text/plain": [
       "<Figure size 640x480 with 1 Axes>"
      ]
     },
     "metadata": {},
     "output_type": "display_data"
    }
   ],
   "source": [
    "plt.hist(df['Incom'], bins=20, color='blue',alpha=0.7, edgecolor= 'black')\n",
    "plt.title('Incom distribution')\n",
    "plt.xlabel('Incom (Rupees)')\n",
    "plt.ylabel('Frequrncy')\n",
    "plt.savefig('income_distribution.png')\n",
    "plt.show()\n"
   ]
  },
  {
   "cell_type": "code",
   "execution_count": 140,
   "id": "30aacc3f",
   "metadata": {},
   "outputs": [
    {
     "data": {
      "image/png": "[encoded data removed]",
      "text/plain": [
       "<Figure size 640x480 with 1 Axes>"
      ]
     },
     "metadata": {},
     "output_type": "display_data"
    }
   ],
   "source": [
    "# Group by 'Colors' and calculate the average income\n",
    "average_income_by_color = df.groupby('Colors')['Incom'].mean()\n",
    "\n",
    "# Create the bar chart\n",
    "plt.bar(average_income_by_color.index, average_income_by_color.values, color='red')\n",
    "\n",
    "# Add titles and labels\n",
    "plt.title('Average Income by Color')\n",
    "plt.xlabel('Color')\n",
    "plt.ylabel('Average Income (Rupees)')\n",
    "plt.xticks(rotation=45) # Rotate x-axis labels for better readability\n",
    "\n",
    "# Display the bar chart\n",
    "plt.show()"
   ]
  },
  {
   "cell_type": "code",
   "execution_count": null,
   "id": "6f6a5307",
   "metadata": {},
   "outputs": [],
   "source": []
  }
 ],
 "metadata": {
  "kernelspec": {
   "display_name": "base",
   "language": "python",
   "name": "python3"
  },
  "language_info": {
   "codemirror_mode": {
    "name": "ipython",
    "version": 3
   },
   "file_extension": ".py",
   "mimetype": "text/x-python",
   "name": "python",
   "nbconvert_exporter": "python",
   "pygments_lexer": "ipython3",
   "version": "3.13.5"
  }
 },
 "nbformat": 4,
 "nbformat_minor": 5
}
